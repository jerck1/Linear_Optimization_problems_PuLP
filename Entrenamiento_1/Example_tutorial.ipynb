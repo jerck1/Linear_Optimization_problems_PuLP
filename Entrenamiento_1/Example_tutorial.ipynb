{
 "cells": [
  {
   "cell_type": "code",
   "execution_count": 1,
   "id": "78c1bcb8",
   "metadata": {},
   "outputs": [
    {
     "name": "stdout",
     "output_type": "stream",
     "text": [
      "Welcome to the CBC MILP Solver \n",
      "Version: 2.10.3 \n",
      "Build Date: Dec 15 2019 \n",
      "\n",
      "command line - /home/john/anaconda3/lib/python3.9/site-packages/pulp/solverdir/cbc/linux/64/cbc /tmp/5c30ddd2f4f34f10ae551bf34d75bb65-pulp.mps max timeMode elapsed branch printingOptions all solution /tmp/5c30ddd2f4f34f10ae551bf34d75bb65-pulp.sol (default strategy 1)\n",
      "At line 2 NAME          MODEL\n",
      "At line 3 ROWS\n",
      "At line 8 COLUMNS\n",
      "At line 15 RHS\n",
      "At line 19 BOUNDS\n",
      "At line 20 ENDATA\n",
      "Problem MODEL has 3 rows, 2 columns and 4 elements\n",
      "Coin0008I MODEL read with 0 errors\n",
      "Option for timeMode changed from cpu to elapsed\n",
      "Presolve 0 (-3) rows, 0 (-2) columns and 0 (-4) elements\n",
      "Empty problem - 0 rows, 0 columns and 0 elements\n",
      "Optimal - objective value 470\n",
      "After Postsolve, objective 470, infeasibilities - dual 0 (0), primal 0 (0)\n",
      "Optimal objective 470 - 0 iterations time 0.002, Presolve 0.00\n",
      "Option for printingOptions changed from normal to all\n",
      "Total time (CPU seconds):       0.00   (Wallclock seconds):       0.00\n",
      "\n"
     ]
    },
    {
     "data": {
      "text/plain": [
       "1"
      ]
     },
     "execution_count": 1,
     "metadata": {},
     "output_type": "execute_result"
    }
   ],
   "source": [
    "import pulp\n",
    "\n",
    "# Create a Linear Programming problem\n",
    "lp_problem = pulp.LpProblem(\"Project_Profit_Maximization\", pulp.LpMaximize)\n",
    "\n",
    "# Define decision variables\n",
    "x = pulp.LpVariable(\"X\", lowBound=0, upBound=None, cat='Continuous')  # Units of Project A\n",
    "y = pulp.LpVariable(\"Y\", lowBound=0, upBound=None, cat='Continuous')  # Units of Project B\n",
    "\n",
    "# Define the objective function (maximize total profit)\n",
    "# lp_problem+=0\n",
    "lp_problem += 10 * x + 15 * y, \"Total_Profit\"\n",
    "\n",
    "# Define constraints\n",
    "lp_problem += 5 * x + 3 * y <= 100, \"Labor_Constraint\"\n",
    "lp_problem += x <= 20, \"Resource_Constraint_Project_A\"\n",
    "lp_problem += y <= 30, \"Resource_Constraint_Project_B\"\n",
    "\n",
    "# Solve the LP problem\n",
    "lp_problem.solve()"
   ]
  },
  {
   "cell_type": "code",
   "execution_count": 2,
   "id": "a1f22c51",
   "metadata": {},
   "outputs": [
    {
     "name": "stdout",
     "output_type": "stream",
     "text": [
      "Optimal Solution:\n",
      "Number of units of Project A: 2.0\n",
      "Number of units of Project B: 30.0\n",
      "Total Profit: $470.00\n"
     ]
    }
   ],
   "source": [
    "\n",
    "# Check the status of the solution\n",
    "if pulp.LpStatus[lp_problem.status] == \"Optimal\":\n",
    "    # Get the optimal values of the decision variables\n",
    "    optimal_x = x.varValue\n",
    "    optimal_y = y.varValue\n",
    "    \n",
    "    # Calculate the total profit\n",
    "    total_profit = pulp.value(lp_problem.objective)\n",
    "    \n",
    "    # Print the results\n",
    "    print(\"Optimal Solution:\")\n",
    "    print(f\"Number of units of Project A: {optimal_x}\")\n",
    "    print(f\"Number of units of Project B: {optimal_y}\")\n",
    "    print(f\"Total Profit: ${total_profit:.2f}\")\n",
    "else:\n",
    "    print(\"Optimization failed. Check your constraints.\")\n"
   ]
  },
  {
   "cell_type": "code",
   "execution_count": 3,
   "id": "89ec6e63",
   "metadata": {},
   "outputs": [
    {
     "name": "stdout",
     "output_type": "stream",
     "text": [
      " costo_unitario_proveedor.csv\t 'pto_4_optiobras (1).ipynb'\r\n",
      " costo_unitario_proveedor.ods\t  pto_4_optiobras.ipynb\r\n",
      "'Entrenamiento 1-Enunciado.pdf'   requirements_builder.csv\r\n",
      " Example_tutorial.ipynb\t\t  requirements_builder.ods\r\n"
     ]
    }
   ],
   "source": [
    "!(ls)"
   ]
  },
  {
   "cell_type": "code",
   "execution_count": null,
   "id": "d0694d00",
   "metadata": {},
   "outputs": [],
   "source": []
  }
 ],
 "metadata": {
  "kernelspec": {
   "display_name": "Python 3 (ipykernel)",
   "language": "python",
   "name": "python3"
  },
  "language_info": {
   "codemirror_mode": {
    "name": "ipython",
    "version": 3
   },
   "file_extension": ".py",
   "mimetype": "text/x-python",
   "name": "python",
   "nbconvert_exporter": "python",
   "pygments_lexer": "ipython3",
   "version": "3.9.12"
  }
 },
 "nbformat": 4,
 "nbformat_minor": 5
}
